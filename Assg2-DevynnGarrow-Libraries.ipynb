{
 "cells": [
  {
   "cell_type": "markdown",
   "id": "e9ba1fb4-2259-46ab-ae7a-4074c6016b29",
   "metadata": {},
   "source": [
    "**Implementation Using ML Libraries**\n",
    "\n",
    "I did this assignment before the additional Python file was uploaded to OnQ, so I solved it just using Numpy and confirmed this is ok with the course instructor \n",
    "\n",
    "Devynn Garrow (20148909)\n",
    "\n",
    "Due: October 6, 2023"
   ]
  },
  {
   "cell_type": "code",
   "execution_count": 18,
   "id": "069515f0-8be7-4866-876b-bf1061bb67df",
   "metadata": {},
   "outputs": [],
   "source": [
    "import numpy as np\n",
    "import matplotlib.pyplot as plt\n",
    "\n",
    "from sklearn.datasets import load_breast_cancer\n",
    "from sklearn.model_selection import train_test_split\n",
    "from sklearn.preprocessing import StandardScaler\n",
    "from sklearn.neural_network import MLPClassifier\n",
    "\n",
    "from sklearn.metrics import classification_report, confusion_matrix\n"
   ]
  },
  {
   "cell_type": "code",
   "execution_count": 19,
   "id": "8d4254d3-f4f3-4166-94d1-072d08c473d2",
   "metadata": {},
   "outputs": [],
   "source": [
    "#Load in data from scikit-learn\n",
    "data = load_breast_cancer(return_X_y = True)\n",
    "x = data[0]\n",
    "y = data[1]\n",
    "\n",
    "#Scale Data\n",
    "scaler = StandardScaler()\n",
    "x_scaled = scaler.fit_transform(x,y)\n",
    "\n",
    "#Split data into training and testing sets (75% training, 25% testing)\n",
    "training_data, testing_data, training_target_output, testing_target_output = train_test_split(x_scaled, y, test_size=0.25)"
   ]
  },
  {
   "cell_type": "code",
   "execution_count": 20,
   "id": "e443b3a5-7768-4d4d-8955-b0a98630f4ea",
   "metadata": {},
   "outputs": [],
   "source": [
    "def classify(c, num_hidden_layers, num_hidden_nodes, num_per_batch, num_epochs):\n",
    "    classifier = MLPClassifier(hidden_layer_sizes=(num_hidden_nodes, num_hidden_layers), \n",
    "                               activation='logistic', \n",
    "                               solver = 'adam', \n",
    "                               batch_size = num_per_batch, \n",
    "                               learning_rate = 'constant',\n",
    "                               learning_rate_init = c,\n",
    "                               max_iter = num_epochs,\n",
    "                               random_state = 1)\n",
    "    classifier.fit(training_data, training_target_output)\n",
    "    return classifier\n",
    "\n",
    "                               "
   ]
  },
  {
   "cell_type": "code",
   "execution_count": 21,
   "id": "51793d32-e008-4b80-9a3b-8b99d9422fb5",
   "metadata": {},
   "outputs": [
    {
     "name": "stdout",
     "output_type": "stream",
     "text": [
      "[[55  1]\n",
      " [ 4 83]]\n",
      "              precision    recall  f1-score   support\n",
      "\n",
      "           0       0.93      0.98      0.96        56\n",
      "           1       0.99      0.95      0.97        87\n",
      "\n",
      "    accuracy                           0.97       143\n",
      "   macro avg       0.96      0.97      0.96       143\n",
      "weighted avg       0.97      0.97      0.97       143\n",
      "\n"
     ]
    }
   ],
   "source": [
    "learning_rate = 0.01\n",
    "hidden_size = 3\n",
    "batch_size = 32\n",
    "num_epochs = 1000\n",
    "\n",
    "#MLP from scikit-learn with 1 hidden layer\n",
    "\n",
    "classifier = classify(learning_rate, hidden_size, 1, batch_size, num_epochs)\n",
    "\n",
    "y_test_pred = classifier.predict(testing_data)\n",
    "test_accuracy = classifier.score(testing_data, testing_target_output)\n",
    "\n",
    "print(confusion_matrix(testing_target_output, y_test_pred))\n",
    "print(classification_report(testing_target_output,y_test_pred))"
   ]
  },
  {
   "cell_type": "code",
   "execution_count": 22,
   "id": "bd17d12f-1cb5-41e9-bbf3-eef3c952d2b2",
   "metadata": {},
   "outputs": [
    {
     "name": "stdout",
     "output_type": "stream",
     "text": [
      "[[56  0]\n",
      " [ 2 85]]\n",
      "              precision    recall  f1-score   support\n",
      "\n",
      "           0       0.97      1.00      0.98        56\n",
      "           1       1.00      0.98      0.99        87\n",
      "\n",
      "    accuracy                           0.99       143\n",
      "   macro avg       0.98      0.99      0.99       143\n",
      "weighted avg       0.99      0.99      0.99       143\n",
      "\n"
     ]
    }
   ],
   "source": [
    "#MLP from scikit-learn with 2 hidden layers\n",
    "\n",
    "classifier = classify(learning_rate, hidden_size, 2, batch_size, num_epochs)\n",
    "\n",
    "y_test_pred = classifier.predict(testing_data)\n",
    "test_accuracy = classifier.score(testing_data, testing_target_output)\n",
    "\n",
    "print(confusion_matrix(testing_target_output, y_test_pred))\n",
    "print(classification_report(testing_target_output,y_test_pred))"
   ]
  },
  {
   "cell_type": "code",
   "execution_count": null,
   "id": "c44498bc-6bc1-44ac-9e0f-e7c2a381b6dc",
   "metadata": {},
   "outputs": [],
   "source": []
  }
 ],
 "metadata": {
  "kernelspec": {
   "display_name": "Python 3 (ipykernel)",
   "language": "python",
   "name": "python3"
  },
  "language_info": {
   "codemirror_mode": {
    "name": "ipython",
    "version": 3
   },
   "file_extension": ".py",
   "mimetype": "text/x-python",
   "name": "python",
   "nbconvert_exporter": "python",
   "pygments_lexer": "ipython3",
   "version": "3.11.5"
  }
 },
 "nbformat": 4,
 "nbformat_minor": 5
}
