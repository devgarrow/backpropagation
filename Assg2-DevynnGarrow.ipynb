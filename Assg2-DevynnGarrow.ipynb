{
 "cells": [
  {
   "cell_type": "markdown",
   "id": "e9ba1fb4-2259-46ab-ae7a-4074c6016b29",
   "metadata": {},
   "source": [
    "**Implementation From Scratch**\n",
    "\n",
    "I did this assignment before the additional Python file was uploaded to OnQ, so I solved it just using Numpy and confirmed this is ok with the course instructor \n",
    "\n",
    "Devynn Garrow (20148909)\n",
    "\n",
    "Due: October 6, 2023"
   ]
  },
  {
   "cell_type": "code",
   "execution_count": 57,
   "id": "069515f0-8be7-4866-876b-bf1061bb67df",
   "metadata": {},
   "outputs": [],
   "source": [
    "import numpy as np\n",
    "from sklearn.datasets import load_breast_cancer\n",
    "from sklearn.model_selection import train_test_split\n",
    "from sklearn.preprocessing import StandardScaler\n",
    "\n",
    "import matplotlib.pyplot as plt"
   ]
  },
  {
   "cell_type": "code",
   "execution_count": 58,
   "id": "8d4254d3-f4f3-4166-94d1-072d08c473d2",
   "metadata": {},
   "outputs": [],
   "source": [
    "#Load in data from scikit-learn\n",
    "data = load_breast_cancer(return_X_y = True)\n",
    "x = data[0]\n",
    "y = data[1]\n",
    "\n",
    "#Scale Data\n",
    "scaler = StandardScaler()\n",
    "x_scaled = scaler.fit_transform(x,y)\n",
    "\n",
    "#Split data into training and testing sets (75% training, 25% testing)\n",
    "training_data, testing_data, training_target_output, testing_target_output = train_test_split(x_scaled, y, test_size=0.25)"
   ]
  },
  {
   "cell_type": "code",
   "execution_count": 59,
   "id": "fa74de33-81c3-4f14-9ade-bce2fbcb1a9b",
   "metadata": {},
   "outputs": [],
   "source": [
    "#Define Sigmoid Activation Function\n",
    "def sigmoid(x):\n",
    "    return 1/(1+np.exp(np.negative(x)))"
   ]
  },
  {
   "cell_type": "code",
   "execution_count": 60,
   "id": "b4749b7a-1ee5-496b-a9a3-88a76737b731",
   "metadata": {},
   "outputs": [],
   "source": [
    "#Step 2: Define neural network architecture\n",
    "#Allow customization of input size, hidden size, and output size\n",
    "\n",
    "#Randomly initialize all weights following a Gaussian distribution centred at 0 with a standard deviation of 1\n",
    "def network(num_input_features, num_hidden_nodes, num_output_nodes):\n",
    "    hidden_nodes = []\n",
    "    output_nodes = []\n",
    "    for i in range(0, num_hidden_nodes):\n",
    "        weights = np.random.normal(0, 1, num_input_features).tolist()\n",
    "        weights.append(0.5)\n",
    "        hidden_nodes.append(weights)\n",
    "    for j in range(0, num_output_nodes):\n",
    "        weights = np.random.normal(0, 1, num_hidden_nodes).tolist()\n",
    "        weights.append(0.5)\n",
    "        output_nodes.append(weights)\n",
    "\n",
    "    return hidden_nodes, output_nodes"
   ]
  },
  {
   "cell_type": "code",
   "execution_count": 61,
   "id": "800fd620-b59a-490d-bcd0-9d398b363cf3",
   "metadata": {},
   "outputs": [],
   "source": [
    "#Step 3: Implement forward propagation\n",
    "\n",
    "#input [x1, x2, x3, ...] *1 pattern\n",
    "#hidden nodes [[w11, w21, w31, ..., w01], [w12, w22, w32, ..., w02], ...]\n",
    "#output node [[w11, w21, w31, ..., w01], [w12, w22, w32, ..., w02], ...]\n",
    "def forwardPropagation(input, hidden_nodes, output_nodes):\n",
    "    output = []\n",
    "    x = input\n",
    "    hidden_node_input = []\n",
    "    hidden_node_output = []\n",
    "    output_node_input = []\n",
    "    output_node_output = []\n",
    "    for i in range(0, len(hidden_nodes)):\n",
    "        w = hidden_nodes[i]\n",
    "        hi_net = w[-1]\n",
    "        hi_net_test = np.sum(np.multiply(x,w))\n",
    "        for j in range(0, len(x)):\n",
    "            hi_net = hi_net + x[j]*w[j]\n",
    "        hidden_node_input.append(hi_net)\n",
    "    hidden_node_output = sigmoid(hidden_node_input).tolist()\n",
    "    hidden_node_output.append(1)\n",
    "    for i in range(0, len(output_nodes)):\n",
    "        w = output_nodes[i]\n",
    "        yi_net = w[-1]\n",
    "        for j in range(0, len(hidden_node_output)):\n",
    "            yi_net = yi_net + hidden_node_output[j]*w[j]\n",
    "        output_node_input.append(yi_net)\n",
    "    output_node_output = sigmoid(output_node_input).tolist()   \n",
    "    output.append(output_node_output)\n",
    "    return output, output_node_input, hidden_node_output, hidden_node_input"
   ]
  },
  {
   "cell_type": "code",
   "execution_count": 62,
   "id": "28c13d2e-0a64-44e0-8849-e74b86acc9f0",
   "metadata": {},
   "outputs": [],
   "source": [
    "#Step 4: Calculate errors and loss\n",
    "def error_i(y_pred, y_test):\n",
    "    return np.subtract(y_pred, y_test)\n",
    "\n",
    "def mean_squared_error(error):\n",
    "    return np.square(error)\n",
    "\n",
    "def sum_square_error(mse):\n",
    "    return(np.sum(mse))\n",
    "\n",
    "def error(y_pred, y_test):\n",
    "    sse = []\n",
    "    for i in range(0, len(y_test)):\n",
    "        mse = mean_squared_error(error_i(y_pred[i], y_test[i]))\n",
    "        sse.append(sum_square_error(mse))\n",
    "    loss = np.sum(sse)\n",
    "    return sse, loss"
   ]
  },
  {
   "cell_type": "code",
   "execution_count": 63,
   "id": "8d7a02fa-ed10-437a-bad0-8b95732abc7f",
   "metadata": {},
   "outputs": [],
   "source": [
    "#Step 5: Implement backpropagation\n",
    "#Allow customization of learning rate and number of iterations\n",
    "\n",
    "#Derivative of a sigmoid s = s*(1-s)\n",
    "def sigmoid_derivative(x):\n",
    "    return np.multiply(sigmoid(x), (np.subtract(1,sigmoid(x))))\n",
    "\n",
    "#Backpropagation weight update calculationg\n",
    "def backpropagation(c, output, y_pred, yi_net, hi_out, hi_net, output_nodes, input):\n",
    "\n",
    "    #weight adjustment for hidden to output\n",
    "    delta_w_output = []\n",
    "    #each output node\n",
    "    for j in range(0, len(yi_net)):\n",
    "        error_j = error_i(y_pred, output[j]) \n",
    "        delta_w_i = []\n",
    "        #each hidden node\n",
    "        for h in range(0, len(hi_out)):\n",
    "            delta_w_i.append((c*error_j*sigmoid_derivative(yi_net[j])*hi_out[h])[0])\n",
    "        delta_w_output.append(delta_w_i)\n",
    "\n",
    "    #weight adjustment for input to hidden\n",
    "    delta_w_hidden = []\n",
    "    #each hidden node\n",
    "    for h in range(0, len(hi_net)):\n",
    "        delta_w_h = []\n",
    "        #each input node\n",
    "        for i in range(0, len(input)):\n",
    "            sumOutputNodes = 0\n",
    "            #each output node\n",
    "            for j in range(0, len(output)):\n",
    "                error_j = error_i(y_pred, output[j]) \n",
    "                sumOutputNodes = (sumOutputNodes + error_j*sigmoid_derivative(yi_net[j])*output_nodes[j][h])[0]\n",
    "            delta_w_h.append((c*sumOutputNodes*sigmoid_derivative(hi_net[h]).tolist()*input[i]))\n",
    "        delta_w_hidden.append(delta_w_h)\n",
    "            \n",
    "    return delta_w_output, delta_w_hidden\n",
    "            "
   ]
  },
  {
   "cell_type": "code",
   "execution_count": 64,
   "id": "70604944-91e2-4ba5-9c0d-c3920bf80b9f",
   "metadata": {},
   "outputs": [],
   "source": [
    "#Step 6: Training loop with mini-batches\n",
    "#Allow customization of batch size\n",
    "def training(c, batch_size, training_data, target_output, hidden_nodes, output_nodes): \n",
    "    count = 0\n",
    "    delta_w_output_batch = []\n",
    "    delta_w_hidden_batch = []\n",
    "    trained_hidden_nodes = hidden_nodes\n",
    "    trained_output_nodes = output_nodes\n",
    "    for i in range(0, len(training_data)):\n",
    "        input = (training_data[i].tolist())\n",
    "        input.append(1)\n",
    "        if(count < batch_size and i != len(training_data)-1):\n",
    "            output, output_node_input, hidden_node_output, hidden_node_input = forwardPropagation(input, trained_hidden_nodes, trained_output_nodes)\n",
    "            delta_w_output, delta_w_hidden = backpropagation(c, output, target_output[i], output_node_input, hidden_node_output, hidden_node_input, trained_output_nodes, input)\n",
    "            delta_w_output_batch.append(delta_w_output)\n",
    "            delta_w_hidden_batch.append(delta_w_hidden)\n",
    "            count = count +1\n",
    "        else:\n",
    "            output, output_node_input, hidden_node_output, hidden_node_input = forwardPropagation(input, trained_hidden_nodes, trained_output_nodes)\n",
    "            delta_w_output, delta_w_hidden = backpropagation(c, output, target_output[i], output_node_input, hidden_node_output, hidden_node_input, trained_output_nodes, input)\n",
    "            delta_w_output_batch.append(delta_w_output)\n",
    "            delta_w_hidden_batch.append(delta_w_hidden)\n",
    "\n",
    "            #update weights\n",
    "            for j in range(0, len(trained_output_nodes)):\n",
    "                summed_weights = delta_w_output_batch[0][j]\n",
    "                for k in range(1, len(delta_w_output_batch)): \n",
    "                    summed_weights = np.add(summed_weights, delta_w_output_batch[k][j])\n",
    "                averaged_weights = np.divide(summed_weights, batch_size)\n",
    "                trained_output_nodes[j] = np.add(trained_output_nodes[j], averaged_weights.tolist()).tolist()\n",
    "            for h in range(0, len(trained_hidden_nodes)):\n",
    "                summed_weights = delta_w_hidden_batch[0][h]\n",
    "                for k in range(1, len(delta_w_hidden_batch)): \n",
    "                    summed_weights = np.add(summed_weights, delta_w_hidden_batch[k][h])\n",
    "                averaged_weights = np.divide(summed_weights, batch_size)\n",
    "                trained_hidden_nodes[h] = np.add(trained_hidden_nodes[h], averaged_weights.tolist()).tolist()\n",
    "            count = 0\n",
    "            delta_w_output_batch.clear()\n",
    "            delta_w_hidden_batch.clear()\n",
    "    return trained_hidden_nodes, trained_output_nodes\n",
    "        \n",
    "        "
   ]
  },
  {
   "cell_type": "code",
   "execution_count": 65,
   "id": "7acac792-ae39-4a65-a80f-66ed4235d62d",
   "metadata": {},
   "outputs": [],
   "source": [
    "#Step 7: Implement prediction function\n",
    "def predict(input, trained_hidden_nodes, trained_output_nodes):\n",
    "    y_pred = []\n",
    "    for x in input:\n",
    "        data = x.tolist()\n",
    "        data.append(1)\n",
    "        output = forwardPropagation(data, trained_hidden_nodes, trained_output_nodes)\n",
    "        y_pred.append(output[0][0][0])\n",
    "    return y_pred"
   ]
  },
  {
   "cell_type": "code",
   "execution_count": 66,
   "id": "f872d8b0-51f9-4008-9405-f259818a34ac",
   "metadata": {},
   "outputs": [],
   "source": [
    "#Step 8: Evaluation\n",
    "def evaluate(y_pred, y_test):\n",
    "    #Implement confusion matrix, recall, and precision calculations\n",
    "    #Return these evaluation metrics\n",
    "    y_test = np.array(y_test)\n",
    "    tp = len(y_test[np.where(np.logical_and(y_test == 0, y_pred == 0))])\n",
    "    tn = len(y_test[np.where(np.logical_and(y_test == 1, y_pred == 1))])\n",
    "    fp = len(y_test[np.where(np.logical_and(y_test == 0, y_pred == 1))])\n",
    "    fn = len(y_test[np.where(np.logical_and(y_test == 1, y_pred == 0))])\n",
    "\n",
    "    confusion_matrix = [[tp, fp], [fn, tn]]\n",
    "    print(\"Confusion Matrix:\" + str(confusion_matrix))\n",
    "    precision = tn/(tn+fn)\n",
    "    print(\"Precision: \"+ str(round(precision, 3)))\n",
    "    recall = tp/(tp+fn)\n",
    "    print(\"Recall: \"+ str(round(recall, 3)))\n",
    "\n",
    "    return confusion_matrix, recall, precision"
   ]
  },
  {
   "cell_type": "code",
   "execution_count": 69,
   "id": "a33c5288-3fc2-46fa-9525-a5de596d2cef",
   "metadata": {},
   "outputs": [
    {
     "name": "stdout",
     "output_type": "stream",
     "text": [
      "epoch 1, train error 0.2199, test error 0.2617\n",
      "epoch 51, train error 0.1659, test error 0.1872\n",
      "epoch 101, train error 0.1404, test error 0.1505\n",
      "epoch 151, train error 0.1247, test error 0.1304\n",
      "epoch 201, train error 0.1124, test error 0.1159\n",
      "epoch 251, train error 0.1021, test error 0.1045\n",
      "epoch 301, train error 0.0935, test error 0.0953\n",
      "epoch 351, train error 0.0864, test error 0.0878\n",
      "epoch 401, train error 0.0803, test error 0.0816\n",
      "epoch 451, train error 0.0752, test error 0.0765\n",
      "epoch 501, train error 0.0708, test error 0.0722\n",
      "epoch 551, train error 0.0669, test error 0.0686\n",
      "epoch 601, train error 0.0636, test error 0.0656\n",
      "epoch 651, train error 0.0606, test error 0.0630\n",
      "epoch 701, train error 0.0579, test error 0.0607\n",
      "epoch 751, train error 0.0555, test error 0.0588\n",
      "epoch 801, train error 0.0533, test error 0.0570\n",
      "epoch 851, train error 0.0513, test error 0.0555\n",
      "epoch 901, train error 0.0495, test error 0.0541\n",
      "epoch 951, train error 0.0479, test error 0.0529\n"
     ]
    }
   ],
   "source": [
    "#Step 9: Customization\n",
    "#Allow customization of hidden size, learning rate, number of iterations, and batch size\n",
    "num_epochs = 1000\n",
    "hidden_size = 3\n",
    "learning_rate = 0.01\n",
    "batch_size = 32\n",
    "num_input_features = 2\n",
    "num_output_nodes = 1\n",
    "\n",
    "training_accuracy = []\n",
    "testing_accuracy = []\n",
    "\n",
    "hidden_nodes, output_nodes = network(len(training_data[0]), hidden_size, num_output_nodes)\n",
    "for i in range(0,num_epochs):\n",
    "    hidden_nodes, output_nodes = training(learning_rate, batch_size, training_data, training_target_output, hidden_nodes, output_nodes) \n",
    "    y_train_pred = predict(training_data, hidden_nodes, output_nodes)\n",
    "    y_test_pred = predict(testing_data, hidden_nodes, output_nodes)\n",
    "    train_error = error(training_target_output, y_train_pred)[1]/len(training_data)\n",
    "    test_error = error(testing_target_output, y_test_pred)[1]/len(testing_data)\n",
    "    training_accuracy.append(1-train_error)\n",
    "    testing_accuracy.append(1-test_error)\n",
    "    if(i%50 == 0):\n",
    "        print('epoch %d, train error %.4f, test error %.4f' % (i + 1, train_error, test_error))\n"
   ]
  },
  {
   "cell_type": "code",
   "execution_count": 70,
   "id": "b291e3b6-5ba6-4c56-8545-f9052269f662",
   "metadata": {},
   "outputs": [
    {
     "data": {
      "image/png": "[encoded data removed]",
      "text/plain": [
       "<Figure size 640x480 with 1 Axes>"
      ]
     },
     "metadata": {},
     "output_type": "display_data"
    },
    {
     "name": "stdout",
     "output_type": "stream",
     "text": [
      "Test Targeted Output:\n",
      "[0 0 1 1 1 1 0 1 0 1 0 1 1 0 1 0 0 0 1 1 1 0 0 0 0 1 1 1 1 1 0 1 0 0 1 1 1\n",
      " 1 1 1 1 0 0 1 1 1 1 1 1 0 1 0 1 1 1 1 1 0 0 1 0 1 0 1 0 1 0 0 1 1 0 0 0 0\n",
      " 0 1 1 0 0 0 1 0 0 1 1 0 1 0 1 1 1 1 0 1 1 1 1 0 0 0 1 1 1 1 0 1 0 1 0 1 1\n",
      " 1 0 1 0 1 0 0 0 1 0 1 0 0 1 0 1 1 0 1 1 1 0 1 0 1 0 1 0 0 1 0 1]\n",
      "Test Model Output:\n",
      "[0.24767228827102883, 0.17802906110835476, 0.9413919546456355, 0.8263137257619749, 0.8986636926851379, 0.760278963691844, 0.15982652473444223, 0.8209637999483727, 0.12857372207263704, 0.9432107541947515, 0.1303022793129133, 0.9428493252198289, 0.9046994420958345, 0.13557545200469528, 0.9241843435891351, 0.4174148072683291, 0.1489222577272323, 0.12987601050723932, 0.9350042872878045, 0.7228996862994856, 0.6741067432209608, 0.1549894376633128, 0.1348463593295976, 0.12875637668311377, 0.4565111452790223, 0.9396895644840616, 0.9287160502235868, 0.9379783993285887, 0.9365425398441174, 0.5971299092640023, 0.12856279442927707, 0.9433354098453459, 0.15545685461249997, 0.15908364925361773, 0.9340105793877247, 0.943341900667512, 0.9402702843754074, 0.9434266939930123, 0.2298882845123543, 0.9375759589343295, 0.7883959234985052, 0.13043154963099984, 0.13088069432109908, 0.8670247870639708, 0.79670057610098, 0.9339457018651787, 0.9011889289193739, 0.9345351608543295, 0.7963235903215318, 0.16123987238549392, 0.6623424233365526, 0.2902405441097671, 0.9388587355978338, 0.9221629920480255, 0.5750106416896879, 0.935336502913667, 0.9399491415241634, 0.1676408959082952, 0.12857726549164444, 0.8267153835245662, 0.27869961032218643, 0.8946963899495559, 0.12865163043867242, 0.939284526281988, 0.13313960974218764, 0.9109503322845, 0.1292694181739871, 0.12925735548133663, 0.9424650616854126, 0.8296162043646488, 0.6367008165594544, 0.12948621319318654, 0.13156930058666422, 0.1438199416817403, 0.9240577676569273, 0.9250841980432501, 0.9412199792551286, 0.12866211712025474, 0.1292358295360093, 0.8126364647079659, 0.9171312409357949, 0.15520974328750847, 0.12988533492007986, 0.8827075432226308, 0.819741058647609, 0.12855983869251641, 0.8972545413058818, 0.12855802080679504, 0.8883365622012821, 0.9334959712930991, 0.8472566230963123, 0.9344789870669371, 0.12858336444889032, 0.9428722659535853, 0.9371806927442876, 0.9380719401426301, 0.8531453977284476, 0.6134989752791903, 0.12859375759153305, 0.12856827351199304, 0.8328946654077087, 0.9376051486788474, 0.8600073176684799, 0.9432353533546902, 0.12859982846110674, 0.9386890143029639, 0.5495841169215392, 0.8647777490491196, 0.128560192469853, 0.9335652655219975, 0.9433670462057687, 0.6809055084466652, 0.28867840932730937, 0.8702806336239122, 0.128569333029169, 0.9419050784901224, 0.13062182532754138, 0.128561944578529, 0.13686093427081775, 0.7426777799082567, 0.6741556218632315, 0.9421817325562165, 0.12872885540511766, 0.22227204382552213, 0.8916049255189966, 0.19083960050083595, 0.9427662026316304, 0.9433036362876998, 0.14348965996913235, 0.9213440926104548, 0.9430407199699922, 0.9360779081862214, 0.12863699015171207, 0.943298208227554, 0.6653745622092576, 0.9280872978453657, 0.13174563111288598, 0.939955933657039, 0.12882285366777205, 0.15547723210803016, 0.8598856914104335, 0.2745728765183806, 0.9433778273054589]\n"
     ]
    }
   ],
   "source": [
    "x_plot = np.linspace(1, num_epochs, num_epochs)\n",
    "plt.plot(x_plot, training_accuracy, label = \"Training Accuracy (1-loss)\")\n",
    "plt.plot(x_plot, testing_accuracy, label = \"Testing Accuracy (1-loss)\")\n",
    "plt.legend()\n",
    "\n",
    "plt.show()\n",
    "\n",
    "print(\"Test Targeted Output:\")\n",
    "print(testing_target_output)\n",
    "print(\"Test Model Output:\")\n",
    "print(y_test_pred)"
   ]
  },
  {
   "cell_type": "code",
   "execution_count": 71,
   "id": "7a313a4f-6900-4c1e-8cad-81ca1bbd3960",
   "metadata": {},
   "outputs": [
    {
     "name": "stdout",
     "output_type": "stream",
     "text": [
      "Confusion Matrix:[[55, 1], [7, 80]]\n",
      "Precision: 0.92\n",
      "Recall: 0.887\n"
     ]
    }
   ],
   "source": [
    "confusion_matrix, recall, precision = evaluate(testing_target_output, np.round(y_test_pred))"
   ]
  },
  {
   "cell_type": "code",
   "execution_count": null,
   "id": "e443b3a5-7768-4d4d-8955-b0a98630f4ea",
   "metadata": {},
   "outputs": [],
   "source": []
  },
  {
   "cell_type": "code",
   "execution_count": null,
   "id": "51793d32-e008-4b80-9a3b-8b99d9422fb5",
   "metadata": {},
   "outputs": [],
   "source": []
  }
 ],
 "metadata": {
  "kernelspec": {
   "display_name": "Python 3 (ipykernel)",
   "language": "python",
   "name": "python3"
  },
  "language_info": {
   "codemirror_mode": {
    "name": "ipython",
    "version": 3
   },
   "file_extension": ".py",
   "mimetype": "text/x-python",
   "name": "python",
   "nbconvert_exporter": "python",
   "pygments_lexer": "ipython3",
   "version": "3.11.5"
  }
 },
 "nbformat": 4,
 "nbformat_minor": 5
}
